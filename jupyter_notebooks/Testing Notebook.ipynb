{
 "cells": [
  {
   "cell_type": "code",
   "execution_count": null,
   "metadata": {},
   "outputs": [],
   "source": [
    "# The purpose of this notbook is for writing python quickly and checking assumptions \n",
    "# without modifying existing notebooks\n",
    "\n",
    "import keras\n",
    "from keras.models import load_model\n",
    "import cv2\n",
    "import scipy\n",
    "import numpy as np"
   ]
  },
  {
   "cell_type": "code",
   "execution_count": null,
   "metadata": {},
   "outputs": [],
   "source": [
    "# model = load_model(\"test_model.h5\")\n",
    "model = load_model(\"attention_mask_model.h5\")"
   ]
  },
  {
   "cell_type": "code",
   "execution_count": null,
   "metadata": {},
   "outputs": [],
   "source": [
    "for i in range (-10, -1):\n",
    "    print(i, \"Layer: \" + str(model.layers[i]))"
   ]
  },
  {
   "cell_type": "code",
   "execution_count": null,
   "metadata": {},
   "outputs": [],
   "source": [
    "model.layers[-6]"
   ]
  },
  {
   "cell_type": "code",
   "execution_count": null,
   "metadata": {},
   "outputs": [],
   "source": [
    "original_image = cv2.imread('./lesion_images/all_images_processed/' + \"0001-0\" + '.jpg')\n",
    "X = cv2.resize(original_image, (224, 224))\n",
    "X = np.true_divide(X, 255)\n",
    "X = X.reshape(1, X.shape[0], X.shape[1], X.shape[2]) # reshape with batch size of 1"
   ]
  },
  {
   "cell_type": "code",
   "execution_count": null,
   "metadata": {},
   "outputs": [],
   "source": [
    "print(original_image.shape)\n",
    "print(X.shape)"
   ]
  },
  {
   "cell_type": "code",
   "execution_count": null,
   "metadata": {},
   "outputs": [],
   "source": [
    "input_layer = model.layers[0].input\n",
    "output_layer = model.layers[-1].output\n",
    "output_weights = model.layers[-1].get_weights()[0]\n",
    "last_conv_layer = model.layers[-6].output\n",
    "\n",
    "print(input_layer.shape)\n",
    "print(output_layer.shape)\n",
    "print(last_conv_layer.shape)"
   ]
  },
  {
   "cell_type": "code",
   "execution_count": null,
   "metadata": {},
   "outputs": [],
   "source": [
    "get_outputs = keras.backend.function([input_layer], [last_conv_layer, output_layer])"
   ]
  },
  {
   "cell_type": "code",
   "execution_count": null,
   "metadata": {},
   "outputs": [],
   "source": [
    "[conv_outputs, predictions] = get_outputs([X])"
   ]
  },
  {
   "cell_type": "code",
   "execution_count": null,
   "metadata": {},
   "outputs": [],
   "source": [
    "print(conv_outputs.shape)\n",
    "print(conv_outputs[0,:,:,:].shape)\n",
    "print(predictions.shape)"
   ]
  },
  {
   "cell_type": "code",
   "execution_count": null,
   "metadata": {},
   "outputs": [],
   "source": [
    "first_conv_output = conv_outputs[0,:,:,:]\n",
    "print(first_conv_output.shape)\n",
    "mat_for_mult = scipy.ndimage.zoom(first_conv_output, (32, 32, 2.28571429), order=1) # dim: 224 x 224 x 1024\n",
    "print(mat_for_mult.shape)"
   ]
  },
  {
   "cell_type": "code",
   "execution_count": null,
   "metadata": {},
   "outputs": [],
   "source": [
    "print(output_weights[:, 0].shape)"
   ]
  },
  {
   "cell_type": "code",
   "execution_count": null,
   "metadata": {},
   "outputs": [],
   "source": [
    "print(mat_for_mult.reshape(512 * 512, 512).shape)"
   ]
  },
  {
   "cell_type": "code",
   "execution_count": null,
   "metadata": {},
   "outputs": [],
   "source": [
    "attention_map = np.dot(\n",
    "        mat_for_mult.reshape(224 * 224, 512), \n",
    "        output_weights[:, 0]).reshape(224, 224)"
   ]
  },
  {
   "cell_type": "code",
   "execution_count": null,
   "metadata": {},
   "outputs": [],
   "source": [
    "import matplotlib.pyplot as plt\n",
    "\n",
    "fig, ax = plt.subplots()\n",
    "\n",
    "ax.imshow(original_image)\n",
    "ax.imshow(attention_map, cmap='jet', alpha=0.3)\n",
    "plt.show()"
   ]
  },
  {
   "cell_type": "code",
   "execution_count": null,
   "metadata": {},
   "outputs": [],
   "source": [
    "def generate_heatmap(model, image_id):\n",
    "    '''\n",
    "    Next Steps:\n",
    "     - Integrate this into the original model.\n",
    "     - Get a classification loss and an attention mining loss\n",
    "    '''\n",
    "    input_layer = model.layers[0].input\n",
    "    output_layer = model.layers[-1].output\n",
    "    output_weights = model.layers[-1].get_weights()[0]\n",
    "    last_conv_layer = model.layers[-6].output\n",
    "\n",
    "    get_outputs = keras.backend.function([input_layer], [last_conv_layer, output_layer])\n",
    "\n",
    "    original_image = cv2.imread('./lesion_images/all_images_processed/' + image_id + '.jpg')\n",
    "    X = cv2.resize(original_image, (512, 512))\n",
    "    X = np.true_divide(X, 255)\n",
    "    X = X.reshape(1, X.shape[0], X.shape[1], X.shape[2]) # reshape with batch size of 1\n",
    "\n",
    "    [conv_outputs, predictions] = get_outputs([X])\n",
    "    conv_outputs = conv_outputs[0, :, :, :]\n",
    "\n",
    "    mat_for_mult = scipy.ndimage.zoom(conv_outputs, (32, 32, 0.5), order=1) # dim: 224 x 224 x 1024\n",
    "    attention_map = np.dot(\n",
    "        mat_for_mult.reshape(512 * 512, 512), \n",
    "        output_weights[:, 0]).reshape(512, 512)\n",
    "\n",
    "    return attention_map"
   ]
  }
 ],
 "metadata": {
  "kernelspec": {
   "display_name": "Python 3",
   "language": "python",
   "name": "python3"
  },
  "language_info": {
   "codemirror_mode": {
    "name": "ipython",
    "version": 3
   },
   "file_extension": ".py",
   "mimetype": "text/x-python",
   "name": "python",
   "nbconvert_exporter": "python",
   "pygments_lexer": "ipython3",
   "version": "3.6.8"
  }
 },
 "nbformat": 4,
 "nbformat_minor": 2
}
