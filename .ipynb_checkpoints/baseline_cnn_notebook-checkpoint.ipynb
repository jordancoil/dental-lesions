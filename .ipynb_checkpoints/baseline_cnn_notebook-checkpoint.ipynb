{
 "cells": [
  {
   "cell_type": "code",
   "execution_count": 1,
   "metadata": {},
   "outputs": [],
   "source": [
    "import numpy as np\n",
    "import tensorflow as tf\n",
    "import pandas as pd"
   ]
  },
  {
   "cell_type": "code",
   "execution_count": 2,
   "metadata": {},
   "outputs": [],
   "source": [
    "df = pd.read_csv(\"./lesion-csv.csv\")"
   ]
  },
  {
   "cell_type": "code",
   "execution_count": 3,
   "metadata": {},
   "outputs": [
    {
     "data": {
      "text/html": [
       "<div>\n",
       "<style scoped>\n",
       "    .dataframe tbody tr th:only-of-type {\n",
       "        vertical-align: middle;\n",
       "    }\n",
       "\n",
       "    .dataframe tbody tr th {\n",
       "        vertical-align: top;\n",
       "    }\n",
       "\n",
       "    .dataframe thead th {\n",
       "        text-align: right;\n",
       "    }\n",
       "</style>\n",
       "<table border=\"1\" class=\"dataframe\">\n",
       "  <thead>\n",
       "    <tr style=\"text-align: right;\">\n",
       "      <th></th>\n",
       "      <th>Unnamed: 0</th>\n",
       "      <th>imageId</th>\n",
       "      <th>teethNumbers</th>\n",
       "      <th>description</th>\n",
       "      <th>numberOfCanals</th>\n",
       "      <th>date</th>\n",
       "      <th>sequenceNumber</th>\n",
       "      <th>lesion</th>\n",
       "    </tr>\n",
       "  </thead>\n",
       "  <tbody>\n",
       "    <tr>\n",
       "      <th>0</th>\n",
       "      <td>0</td>\n",
       "      <td>1-lesion.JPG</td>\n",
       "      <td>17pulpnecrosis</td>\n",
       "      <td>PTNGP</td>\n",
       "      <td>3c</td>\n",
       "      <td>2018-01-09</td>\n",
       "      <td>f4</td>\n",
       "      <td>1</td>\n",
       "    </tr>\n",
       "    <tr>\n",
       "      <th>1</th>\n",
       "      <td>1</td>\n",
       "      <td>2-lesion.JPG</td>\n",
       "      <td>121121</td>\n",
       "      <td>exam,AAP,ChrAbscess,ReTx</td>\n",
       "      <td>NaN</td>\n",
       "      <td>2016-07-05</td>\n",
       "      <td>f1</td>\n",
       "      <td>1</td>\n",
       "    </tr>\n",
       "    <tr>\n",
       "      <th>2</th>\n",
       "      <td>2</td>\n",
       "      <td>3-lesion.JPG</td>\n",
       "      <td>1211</td>\n",
       "      <td>exam,CAP</td>\n",
       "      <td>NaN</td>\n",
       "      <td>2011-03-09</td>\n",
       "      <td>f2</td>\n",
       "      <td>1</td>\n",
       "    </tr>\n",
       "    <tr>\n",
       "      <th>3</th>\n",
       "      <td>3</td>\n",
       "      <td>4-lesion.JPG</td>\n",
       "      <td>47</td>\n",
       "      <td>AAP,WOGGP</td>\n",
       "      <td>3c</td>\n",
       "      <td>2018-06-19</td>\n",
       "      <td>f2</td>\n",
       "      <td>1</td>\n",
       "    </tr>\n",
       "    <tr>\n",
       "      <th>4</th>\n",
       "      <td>4</td>\n",
       "      <td>5-lesion.JPG</td>\n",
       "      <td>41313233</td>\n",
       "      <td>Surgery</td>\n",
       "      <td>NaN</td>\n",
       "      <td>2018-06-12</td>\n",
       "      <td>f4</td>\n",
       "      <td>1</td>\n",
       "    </tr>\n",
       "  </tbody>\n",
       "</table>\n",
       "</div>"
      ],
      "text/plain": [
       "   Unnamed: 0       imageId    teethNumbers               description  \\\n",
       "0           0  1-lesion.JPG  17pulpnecrosis                     PTNGP   \n",
       "1           1  2-lesion.JPG          121121  exam,AAP,ChrAbscess,ReTx   \n",
       "2           2  3-lesion.JPG            1211                  exam,CAP   \n",
       "3           3  4-lesion.JPG              47                 AAP,WOGGP   \n",
       "4           4  5-lesion.JPG        41313233                   Surgery   \n",
       "\n",
       "  numberOfCanals        date sequenceNumber  lesion  \n",
       "0             3c  2018-01-09             f4       1  \n",
       "1            NaN  2016-07-05             f1       1  \n",
       "2            NaN  2011-03-09             f2       1  \n",
       "3             3c  2018-06-19             f2       1  \n",
       "4            NaN  2018-06-12             f4       1  "
      ]
     },
     "execution_count": 3,
     "metadata": {},
     "output_type": "execute_result"
    }
   ],
   "source": [
    "df.head()"
   ]
  },
  {
   "cell_type": "code",
   "execution_count": 4,
   "metadata": {},
   "outputs": [
    {
     "data": {
      "text/html": [
       "<div>\n",
       "<style scoped>\n",
       "    .dataframe tbody tr th:only-of-type {\n",
       "        vertical-align: middle;\n",
       "    }\n",
       "\n",
       "    .dataframe tbody tr th {\n",
       "        vertical-align: top;\n",
       "    }\n",
       "\n",
       "    .dataframe thead th {\n",
       "        text-align: right;\n",
       "    }\n",
       "</style>\n",
       "<table border=\"1\" class=\"dataframe\">\n",
       "  <thead>\n",
       "    <tr style=\"text-align: right;\">\n",
       "      <th></th>\n",
       "      <th>imageId</th>\n",
       "      <th>lesion</th>\n",
       "    </tr>\n",
       "  </thead>\n",
       "  <tbody>\n",
       "    <tr>\n",
       "      <th>0</th>\n",
       "      <td>1-lesion.JPG</td>\n",
       "      <td>1</td>\n",
       "    </tr>\n",
       "    <tr>\n",
       "      <th>1</th>\n",
       "      <td>2-lesion.JPG</td>\n",
       "      <td>1</td>\n",
       "    </tr>\n",
       "    <tr>\n",
       "      <th>2</th>\n",
       "      <td>3-lesion.JPG</td>\n",
       "      <td>1</td>\n",
       "    </tr>\n",
       "    <tr>\n",
       "      <th>3</th>\n",
       "      <td>4-lesion.JPG</td>\n",
       "      <td>1</td>\n",
       "    </tr>\n",
       "    <tr>\n",
       "      <th>4</th>\n",
       "      <td>5-lesion.JPG</td>\n",
       "      <td>1</td>\n",
       "    </tr>\n",
       "  </tbody>\n",
       "</table>\n",
       "</div>"
      ],
      "text/plain": [
       "        imageId  lesion\n",
       "0  1-lesion.JPG       1\n",
       "1  2-lesion.JPG       1\n",
       "2  3-lesion.JPG       1\n",
       "3  4-lesion.JPG       1\n",
       "4  5-lesion.JPG       1"
      ]
     },
     "execution_count": 4,
     "metadata": {},
     "output_type": "execute_result"
    }
   ],
   "source": [
    "df_baseline = df.drop(['Unnamed: 0', 'teethNumbers', 'description', 'numberOfCanals', 'date', 'sequenceNumber'], axis=1)\n",
    "df_baseline.head()"
   ]
  },
  {
   "cell_type": "code",
   "execution_count": 5,
   "metadata": {},
   "outputs": [
    {
     "name": "stdout",
     "output_type": "stream",
     "text": [
      "Total examples: 399\n",
      "Total lesion images: 187\n",
      "Total no lesion images: 212\n"
     ]
    }
   ],
   "source": [
    "print(\"Total examples: \" + str(df_baseline['lesion'].count()))\n",
    "print(\"Total lesion images: \" + str(df_baseline['lesion'].sum()))\n",
    "print(\"Total no lesion images: \" + str(df_baseline['lesion'].count() - df_baseline['lesion'].sum()))"
   ]
  },
  {
   "cell_type": "code",
   "execution_count": 21,
   "metadata": {},
   "outputs": [],
   "source": [
    "from imageio import imread\n",
    "from PIL import Image"
   ]
  },
  {
   "cell_type": "code",
   "execution_count": 23,
   "metadata": {},
   "outputs": [
    {
     "data": {
      "text/plain": [
       "[(1708, 2400, 3), (2400, 1708, 3), (803, 620, 3), (900, 640, 3), (805, 620, 3)]"
      ]
     },
     "execution_count": 23,
     "metadata": {},
     "output_type": "execute_result"
    }
   ],
   "source": [
    "import os\n",
    "\n",
    "# What are some of the image dimensions?\n",
    "image_dims = []\n",
    "bad_files = []\n",
    "\n",
    "image_dir = \"lesion-images-with-id\"\n",
    "image_filenames = os.listdir(image_dir)\n",
    "\n",
    "for image in image_filenames:\n",
    "    if image.endswith(\".JPG\"):\n",
    "        try:\n",
    "            image_path = os.path.join(image_dir, image)\n",
    "            img = Image.open(image_path)\n",
    "            img.verify()\n",
    "            image_dim = imread(image_path).shape\n",
    "            if (image_dim not in image_dims):\n",
    "                image_dims.append(image_dim)\n",
    "        except (IOError, SyntaxError) as e:\n",
    "            bad_files.append(image)\n",
    "\n",
    "image_dims"
   ]
  },
  {
   "cell_type": "code",
   "execution_count": 24,
   "metadata": {},
   "outputs": [
    {
     "data": {
      "text/plain": [
       "['75-lesion.JPG',\n",
       " '302-nolesion.JPG',\n",
       " '88-lesion.JPG',\n",
       " '384-nolesion.JPG',\n",
       " '77-lesion.JPG',\n",
       " '390-nolesion.JPG',\n",
       " '157-lesion.JPG',\n",
       " '204-nolesion.JPG',\n",
       " '343-nolesion.JPG',\n",
       " '234-nolesion.JPG',\n",
       " '85-lesion.JPG',\n",
       " '270-nolesion.JPG',\n",
       " '323-nolesion.JPG',\n",
       " '357-nolesion.JPG',\n",
       " '328-nolesion.JPG',\n",
       " '243-nolesion.JPG',\n",
       " '345-nolesion.JPG',\n",
       " '117-lesion.JPG',\n",
       " '356-nolesion.JPG',\n",
       " '293-nolesion.JPG',\n",
       " '226-nolesion.JPG',\n",
       " '164-lesion.JPG',\n",
       " '155-lesion.JPG']"
      ]
     },
     "execution_count": 24,
     "metadata": {},
     "output_type": "execute_result"
    }
   ],
   "source": [
    "# Looks like some files got corrupted during the data processing\n",
    "# Back to the drawing board\n",
    "bad_files"
   ]
  },
  {
   "cell_type": "code",
   "execution_count": null,
   "metadata": {},
   "outputs": [],
   "source": []
  }
 ],
 "metadata": {
  "kernelspec": {
   "display_name": "Python 3",
   "language": "python",
   "name": "python3"
  },
  "language_info": {
   "codemirror_mode": {
    "name": "ipython",
    "version": 3
   },
   "file_extension": ".py",
   "mimetype": "text/x-python",
   "name": "python",
   "nbconvert_exporter": "python",
   "pygments_lexer": "ipython3",
   "version": "3.6.8"
  }
 },
 "nbformat": 4,
 "nbformat_minor": 2
}
